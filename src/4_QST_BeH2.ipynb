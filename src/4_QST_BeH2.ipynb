{
 "cells": [
  {
   "cell_type": "markdown",
   "metadata": {},
   "source": [
    "# Qubit-data for Berillium Hydride"
   ]
  },
  {
   "cell_type": "code",
   "execution_count": 1,
   "metadata": {},
   "outputs": [],
   "source": [
    "from mpi4py import MPI \n",
    "import netket as nk\n",
    "import pickle\n",
    "import numpy as np\n",
    "import math\n",
    "from functools import reduce\n",
    "import matplotlib.pyplot as plt\n",
    "import warnings\n",
    "warnings.filterwarnings('ignore')"
   ]
  },
  {
   "cell_type": "markdown",
   "metadata": {},
   "source": [
    "## Preliminaries"
   ]
  },
  {
   "cell_type": "markdown",
   "metadata": {},
   "source": [
    "The fermionic Hamiltonian in second quantization (with $M$ orbitals)\n",
    "\n",
    "$$ H = \\sum_{\\alpha,\\beta=1}^M t_{\\alpha\\beta}c^\\dagger_\\alpha c_\\beta \n",
    "+ \\frac{1}{2}\\sum_{\\alpha\\beta=1}^M\\sum_{\\gamma\\delta=1}^M u_{\\alpha\\beta\\gamma\\delta}c^\\dagger_\\alpha c^\\dagger_\\gamma c_\\delta c_\\beta$$\n",
    "\n",
    "is mapped into a qubit Hamiltonian in the form\n",
    "\n",
    "$$ H = \\sum_kc_kP_k $$\n",
    "\n",
    "where $c_k$ are interaction coefficients and $P_k$ are elements of the $N$-qubit Pauli group $\\mathcal{P}_N=\\{\\mathbb{1},X,Y,Z\\}^{\\otimes N}$.\n",
    "\n",
    "The interaction coefficients and the Pauli operators can be found in the `interaction.file` and the `pauli.file` respectively.\n",
    "\n",
    "Specifics:\n",
    "- Number of qubits: 6\n",
    "- Molecule geometry: bond distance\n",
    "- Fermionic basis: atomic STO-3G\n",
    "- Qubit mapping: spin-parity + qubit tapering"
   ]
  },
  {
   "cell_type": "markdown",
   "metadata": {},
   "source": [
    " ## Neural-network reconstruction"
   ]
  },
  {
   "cell_type": "code",
   "execution_count": 2,
   "metadata": {},
   "outputs": [],
   "source": [
    "# Identity \n",
    "I = np.asarray([[1.,0.],[0.,1.]])\n",
    "# Pauli X\n",
    "X = np.asarray([[0.,1.],[1.,0.]])\n",
    "# Pauli Y\n",
    "Y = np.asarray([[0.,-1j],[1j,0.]])\n",
    "# Pauli Z\n",
    "Z = np.asarray([[1.,0.],[0.,-1.]])"
   ]
  },
  {
   "cell_type": "code",
   "execution_count": 3,
   "metadata": {},
   "outputs": [],
   "source": [
    "def operatorfromstring(pauli_string):\n",
    "    \"\"\"\n",
    "    Generate a many-body operator from a list of single-qubit \n",
    "    pauli matrices.\n",
    "    ---------------------------------------------------------\n",
    "    Input    pauli_string: str , (ex: [X,Z,X,Y,...])\n",
    "    \n",
    "    Output   pauli_op: np.array, shape = [2**N,2**N]\n",
    "    \"\"\"\n",
    "    op_list = []\n",
    "    for k in range(len(pauli_string)):\n",
    "        if (pauli_string[k] == 'X'):\n",
    "            op_list.append(X)\n",
    "        elif (pauli_string[k] == 'Y'):\n",
    "            op_list.append(Y)\n",
    "        elif (pauli_string[k] == 'Z'):\n",
    "            op_list.append(Z)\n",
    "        else:\n",
    "            op_list.append(I)\n",
    "\n",
    "    return reduce(np.kron,op_list)\n",
    "\n",
    "def hamiltonian(pauli_list,interactions):\n",
    "    \"\"\"\n",
    "    Generate a many-body hamiltonian\n",
    "    ---------------------------------------------------------\n",
    "    Input    pauli_list: list of pauli strings\n",
    "             interactions: list of interaction strengths\n",
    "    \n",
    "    Output   hamiltonian: np.array, shape = [2**N,2**N]\n",
    "    \"\"\"\n",
    "    N = len(pauli_list[0])\n",
    "    hamiltonian = np.zeros((1<<N,1<<N),dtype=complex)\n",
    "    for i,pauli in enumerate(pauli_list):\n",
    "        hamiltonian += interactions[i]*operatorfromstring(pauli)\n",
    "    return hamiltonian\n",
    "\n",
    "def eigensolve(hamiltonian):\n",
    "    \"\"\"\n",
    "    Compute ground state energy and wavefunction\n",
    "    \"\"\"\n",
    "    (eigenvalues,eigenstates) = np.linalg.eigh(hamiltonian)\n",
    "    return eigenvalues[0],eigenstates[:,0]"
   ]
  },
  {
   "cell_type": "code",
   "execution_count": 4,
   "metadata": {},
   "outputs": [
    {
     "name": "stdout",
     "output_type": "stream",
     "text": [
      "Pauli: IIIIII  | Interaction: -1.707E+01\n",
      "Pauli: ZIIIII  | Interaction: 1.156E-01\n",
      "Pauli: XXZIII  | Interaction: 7.270E-03\n",
      "Pauli: YYIIII  | Interaction: 7.270E-03\n",
      "Pauli: ZZIIII  | Interaction: 1.000E-01\n",
      "Pauli: ZXXIII  | Interaction: -4.618E-03\n",
      "Pauli: IYYIII  | Interaction: -4.618E-03\n",
      "Pauli: IZZIII  | Interaction: -1.599E-01\n",
      "Pauli: IIZIII  | Interaction: -3.908E-01\n",
      "Pauli: IIIZII  | Interaction: 1.156E-01\n",
      "...\n"
     ]
    }
   ],
   "source": [
    "pauli_list   = np.load('../data/tomography/BeH2/paulis.file',allow_pickle=True)\n",
    "interactions = np.load('../data/tomography/BeH2/interactions.file',allow_pickle = True)\n",
    "for k in range(10):\n",
    "    print('Pauli:',pauli_list[k],' | Interaction: %.3E' % interactions[k])\n",
    "print('...')"
   ]
  },
  {
   "cell_type": "markdown",
   "metadata": {},
   "source": [
    "Quantum state reconstruction of the BeH2 ground state with a restricted Boltzmann machine, using the NetKet library.\n",
    "\n",
    "References:\n",
    "- _\"Machine learning quantum states in the NISQ era\"_ : review of quantum state reconstruction with restricted Boltzmann machines. https://arxiv.org/abs/1905.04312\n",
    "- _\"Precise measurement of quantum observables with neural-network estimators\"_ RBM reconstruction of molecular ground states. https://arxiv.org/abs/1910.07596\n",
    "- _\"NetKet: A Machine Learning Toolkit for Many-Body Quantum Systems\"_ Overview of the NetKet software library. https://arxiv.org/abs/1904.00031"
   ]
  },
  {
   "cell_type": "code",
   "execution_count": 5,
   "metadata": {},
   "outputs": [],
   "source": [
    "# Unitary matrices for the rotation in the X and Y bases\n",
    "rotationX = 1./(math.sqrt(2))*np.asarray([[1.,1.],[1.,-1.]])\n",
    "rotationY= 1./(math.sqrt(2))*np.asarray([[1.,-1j],[1.,1j]])\n",
    "\n",
    "def LoadData(N,hilbert,path_to_samples, path_to_bases):\n",
    "    training_samples = []\n",
    "    training_bases = []\n",
    "\n",
    "    tsamples = np.loadtxt(path_to_samples)\n",
    "    assert(N == tsamples.shape[1])\n",
    "    fin_bases = open(path_to_bases, 'r')\n",
    "    lines = fin_bases.readlines()\n",
    "\n",
    "    bases = []\n",
    "\n",
    "    for b in lines:\n",
    "        basis = \"\"\n",
    "        assert(len(b) == N + 1)\n",
    "        for j in range(N):\n",
    "            basis += b[j]\n",
    "        bases.append(basis)\n",
    "    index_list = sorted(range(len(bases)), key=lambda k: bases[k])\n",
    "    bases.sort()\n",
    "\n",
    "    for i in range(len(tsamples)):\n",
    "        training_samples.append(tsamples[index_list[i]].tolist())\n",
    "\n",
    "    rotations = []\n",
    "\n",
    "    tmp = ''\n",
    "    b_index = -1\n",
    "    for b in bases:\n",
    "        if (b != tmp):\n",
    "            tmp = b\n",
    "            localop = nk.operator.LocalOperator(hilbert, 1.0)\n",
    "\n",
    "            for j in range(N):\n",
    "                if (tmp[j] == 'X'):\n",
    "                    localop *= nk.operator.LocalOperator(hilbert, rotationX, [j])\n",
    "                if (tmp[j] == 'Y'):\n",
    "                    localop *= nk.operator.LocalOperator(hilbert, rotationY, [j])\n",
    "\n",
    "            rotations.append(localop)\n",
    "            b_index += 1\n",
    "        training_bases.append(b_index)\n",
    "\n",
    "    return tuple(rotations), np.asarray(training_samples), np.asarray(training_bases)\n",
    "\n",
    "def OperatorFromString(op_string):                                                \n",
    "    OpList = []                                                                   \n",
    "    Sites = []                                                                    \n",
    "    for k in range(len(op_string)):                                               \n",
    "        if (op_string[k] == 'X'):                                                 \n",
    "            OpList.append(X)                                                      \n",
    "            Sites.append(k)                                                       \n",
    "        elif (op_string[k] == 'Y'):                                               \n",
    "            OpList.append(Y)                                                      \n",
    "            Sites.append(k)                                                       \n",
    "        elif (op_string[k] == 'Z'):                                               \n",
    "            OpList.append(Z)                                                      \n",
    "            Sites.append(k)                                                       \n",
    "    return Sites,reduce(np.kron,OpList) \n",
    "\n",
    "def BuildHamiltonian(N,hilbert,pauli_path,interactions_path):                     \n",
    "    pauli = np.load(pauli_path,allow_pickle=True)                                 \n",
    "    interactions = np.load(interactions_path,allow_pickle=True)                   \n",
    "                                                                                  \n",
    "    hamiltonian = nk.operator.LocalOperator(hilbert, 0.0)                                                                                 \n",
    "    for h in range(0,len(pauli)):                                                                                           \n",
    "        flag = 0                                                                  \n",
    "        for j in range(N):                                                        \n",
    "            if (pauli[h][j]!='I'): flag = 1; break                                \n",
    "        if flag == 0:                                                             \n",
    "            hamiltonian += nk.operator.LocalOperator(hilbert,np.real(interactions[h]))\n",
    "        else:                                                                     \n",
    "            sites,operator = OperatorFromString(pauli[h])                         \n",
    "            h_term = interactions[h]*operator\n",
    "            hamiltonian += nk.operator.LocalOperator(hilbert,h_term,sites)        \n",
    "            \n",
    "    return hamiltonian "
   ]
  },
  {
   "cell_type": "code",
   "execution_count": 6,
   "metadata": {},
   "outputs": [],
   "source": [
    "N = 6          # Number of qubits\n",
    "ns = 100000    # Number of training samples\n",
    "lr = 0.01      # Learning rate\n",
    "M = 20000      # Number of samples for the negative CD phase\n",
    "bs = 10000     # Batch size\n",
    "epochs = 200   # Epochs\n",
    "\n",
    "samples_path = \"../data/tomography/BeH2/train_samples.txt\"\n",
    "bases_path = \"../data/tomography/BeH2/train_bases.txt\"\n",
    "pauli_path = \"../data/tomography/BeH2/paulis.file\"\n",
    "interactions_path = \"../data/tomography/BeH2/interactions.file\"\n",
    "ed_energy = float(np.loadtxt(\"../data/tomography/BeH2/energy.txt\"))\n",
    "psi0 = np.loadtxt(\"../data/tomography/BeH2/psi.txt\")"
   ]
  },
  {
   "cell_type": "code",
   "execution_count": 7,
   "metadata": {},
   "outputs": [],
   "source": [
    "# Lattice\n",
    "graph = nk.graph.Hypercube(length=N, n_dim=1,pbc=False)\n",
    "# Hilbert space\n",
    "hilbert = nk.hilbert.Qubit(graph=graph)\n",
    "# NetKet Hamiltonian\n",
    "hamiltonian = BuildHamiltonian(N,hilbert,pauli_path,interactions_path)"
   ]
  },
  {
   "cell_type": "code",
   "execution_count": 8,
   "metadata": {},
   "outputs": [],
   "source": [
    "# Load training data\n",
    "rotations, tr_samples, tr_bases = LoadData(N,hilbert,samples_path, bases_path)\n",
    "if (ns > tr_samples.shape[0]):\n",
    "    \"Not enough training samples\"\n",
    "else:\n",
    "    training_samples = tr_samples[0:ns]\n",
    "    training_bases   = tr_bases[0:ns]"
   ]
  },
  {
   "cell_type": "code",
   "execution_count": 9,
   "metadata": {},
   "outputs": [],
   "source": [
    "# RBM wavefunction\n",
    "ma = nk.machine.RbmSpin(hilbert=hilbert, alpha=1)        # Complex-weights RBM, alpha=num_hidden/N\n",
    "ma.init_random_parameters(seed=12345, sigma=0.01)"
   ]
  },
  {
   "cell_type": "code",
   "execution_count": 10,
   "metadata": {},
   "outputs": [],
   "source": [
    "# Sampler\n",
    "sa = nk.sampler.MetropolisLocal(machine=ma)\n",
    "\n",
    "# Optimizer + Stochastic Reconfiguration\n",
    "op = nk.optimizer.RmsProp(learning_rate=lr,beta=0.9,epscut = 1.0e-6)\n",
    "sr = nk.optimizer.SR(diag_shift=0.1)"
   ]
  },
  {
   "cell_type": "code",
   "execution_count": 11,
   "metadata": {},
   "outputs": [
    {
     "name": "stdout",
     "output_type": "stream",
     "text": [
      "Epoch = 0   Fidelity = 0.013932   <H> = -16.91281302 | ED = -19.03879505\n",
      "Epoch = 10   Fidelity = 0.019491   <H> = -16.97737903 | ED = -19.03879505\n",
      "Epoch = 20   Fidelity = 0.040305   <H> = -17.20031879 | ED = -19.03879505\n",
      "Epoch = 30   Fidelity = 0.084186   <H> = -17.46297049 | ED = -19.03879505\n",
      "Epoch = 40   Fidelity = 0.170979   <H> = -17.78323176 | ED = -19.03879505\n",
      "Epoch = 50   Fidelity = 0.315948   <H> = -18.09360681 | ED = -19.03879505\n",
      "Epoch = 60   Fidelity = 0.504068   <H> = -18.37462153 | ED = -19.03879505\n",
      "Epoch = 70   Fidelity = 0.698446   <H> = -18.61618218 | ED = -19.03879505\n",
      "Epoch = 80   Fidelity = 0.841070   <H> = -18.83266994 | ED = -19.03879505\n",
      "Epoch = 90   Fidelity = 0.912454   <H> = -18.91978809 | ED = -19.03879505\n",
      "Epoch = 100   Fidelity = 0.944522   <H> = -18.96468585 | ED = -19.03879505\n",
      "Epoch = 110   Fidelity = 0.957604   <H> = -18.97338749 | ED = -19.03879505\n",
      "Epoch = 120   Fidelity = 0.960404   <H> = -18.97222571 | ED = -19.03879505\n",
      "Epoch = 130   Fidelity = 0.966955   <H> = -18.99534508 | ED = -19.03879505\n",
      "Epoch = 140   Fidelity = 0.964493   <H> = -18.97789483 | ED = -19.03879505\n",
      "Epoch = 150   Fidelity = 0.981810   <H> = -19.00838520 | ED = -19.03879505\n",
      "Epoch = 160   Fidelity = 0.983029   <H> = -19.01710521 | ED = -19.03879505\n",
      "Epoch = 170   Fidelity = 0.983694   <H> = -19.01235507 | ED = -19.03879505\n",
      "Epoch = 180   Fidelity = 0.982353   <H> = -19.01646201 | ED = -19.03879505\n",
      "Epoch = 190   Fidelity = 0.988869   <H> = -19.02151152 | ED = -19.03879505\n",
      "Epoch = 200   Fidelity = 0.969603   <H> = -18.96638083 | ED = -19.03879505\n"
     ]
    }
   ],
   "source": [
    "# Quantum state tomography object\n",
    "qst = nk.Qsr(\n",
    "    sampler=sa,\n",
    "    optimizer=op,\n",
    "    samples=training_samples,\n",
    "    rotations=rotations,\n",
    "    bases=training_bases,\n",
    "    n_samples=M,\n",
    "    n_samples_data=bs,\n",
    "    sr=sr,\n",
    ")\n",
    "# Measure the energy while training\n",
    "qst.add_observable(hamiltonian, \"Energy\")\n",
    "\n",
    "# Training loop\n",
    "fidelity = []\n",
    "for ep in qst.iter(epochs+1, 10):\n",
    "    # Get energy measurement\n",
    "    obs = qst.get_observable_stats()\n",
    "    # Compute overlap with exact state\n",
    "    psima = ma.to_array()\n",
    "    overlap = np.abs(np.vdot(psima, psi0))\n",
    "    fidelity.append(overlap**2)\n",
    "    rbm_energy = obs[\"Energy\"].mean.real\n",
    "    print('Epoch = %d   ' % ep,end='')\n",
    "    print('Fidelity = %.6f   '% fidelity[-1],end='')\n",
    "    print(\"<H> = %.8f\" % rbm_energy,end=\" | \")\n",
    "    print(\"ED = %.8f\" % ed_energy)"
   ]
  },
  {
   "cell_type": "code",
   "execution_count": 12,
   "metadata": {},
   "outputs": [
    {
     "data": {
      "image/png": "[encoded data removed]",
      "text/plain": [
       "<Figure size 600x300 with 1 Axes>"
      ]
     },
     "metadata": {},
     "output_type": "display_data"
    }
   ],
   "source": [
    "fig = plt.figure(1,figsize=(4,2), dpi=150, facecolor='w', edgecolor='k')\n",
    "\n",
    "plt.plot(fidelity,linewidth=0.5,marker='o',markersize=2)\n",
    "plt.xlabel(\"Step\",fontsize=10)\n",
    "plt.xlabel(\"Fidelity\",fontsize=10)\n",
    "plt.yticks([0.0,0.5,1.0],fontsize=10)\n",
    "plt.xticks([0,5,10,15,20],[0,50,100,150,200],fontsize=10)\n",
    "plt.hlines(1.0,xmin=0,xmax = 20,linewidth=1.0,linestyle=\"--\")\n",
    "\n",
    "plt.show()"
   ]
  }
 ],
 "metadata": {
  "kernelspec": {
   "display_name": "Python 3",
   "language": "python",
   "name": "python3"
  },
  "language_info": {
   "codemirror_mode": {
    "name": "ipython",
    "version": 3
   },
   "file_extension": ".py",
   "mimetype": "text/x-python",
   "name": "python",
   "nbconvert_exporter": "python",
   "pygments_lexer": "ipython3",
   "version": "3.8.3"
  }
 },
 "nbformat": 4,
 "nbformat_minor": 2
}
